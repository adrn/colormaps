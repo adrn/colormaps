{
 "cells": [
  {
   "cell_type": "code",
   "execution_count": null,
   "metadata": {
    "collapsed": true
   },
   "outputs": [],
   "source": [
    "# Third-party\n",
    "import astropy.coordinates as coord\n",
    "import astropy.units as u\n",
    "import matplotlib as mpl\n",
    "import matplotlib.pyplot as plt\n",
    "from matplotlib.colors import ListedColormap\n",
    "import numpy as np\n",
    "plt.style.use('apw-notebook')\n",
    "%matplotlib inline\n",
    "import matplotlib.mlab as mlab\n",
    "\n",
    "import daltonize"
   ]
  },
  {
   "cell_type": "code",
   "execution_count": null,
   "metadata": {
    "collapsed": false
   },
   "outputs": [],
   "source": [
    "_hesperia_data = np.loadtxt(\"data/hesperia.csv\", delimiter=\",\", skiprows=4).tolist()\n",
    "_laguna_data = np.loadtxt(\"data/laguna.csv\", delimiter=\",\", skiprows=4).tolist()\n",
    "_lacerta_data = np.loadtxt(\"data/lacerta.csv\", delimiter=\",\", skiprows=4).tolist()\n",
    "_mod_plasma_data = np.loadtxt(\"data/mod_plasma.csv\", delimiter=\",\", skiprows=4).tolist()"
   ]
  },
  {
   "cell_type": "code",
   "execution_count": null,
   "metadata": {
    "collapsed": false
   },
   "outputs": [],
   "source": [
    "one = _hesperia_data\n",
    "two = _laguna_data\n",
    "# two = _lacerta_data\n",
    "\n",
    "center_emph = ListedColormap((one[::-1][:192] + two[1:][64:])[10:-10], name=\"center_emph\")\n",
    "center_emph_r = ListedColormap(center_emph.colors[::-1], name=\"center_emph_r\")\n",
    "plt.register_cmap(cmap=center_emph)\n",
    "plt.register_cmap(cmap=center_emph_r)\n",
    "\n",
    "center_deemph = ListedColormap((one[:-1][64:] + two[::-1][:192])[20:-20], name=\"center_deemph\")\n",
    "center_deemph_r = ListedColormap(center_deemph.colors[::-1], name=\"center_deemph_r\")\n",
    "plt.register_cmap(cmap=center_emph)\n",
    "plt.register_cmap(cmap=center_emph_r)"
   ]
  },
  {
   "cell_type": "code",
   "execution_count": null,
   "metadata": {
    "collapsed": false
   },
   "outputs": [],
   "source": [
    "def make_fig(cmap, seed=42):\n",
    "    np.random.seed(seed)\n",
    "    \n",
    "    x = np.random.uniform(size=256)\n",
    "    y = np.random.normal(0., 0.1, size=x.size)\n",
    "    idx = np.abs(y) < 0.2*np.sqrt(x)\n",
    "    x = x[idx]\n",
    "    y = y[idx]\n",
    "    c = y\n",
    "\n",
    "#     fig,axes = plt.subplots(2,3,figsize=(16,12))\n",
    "    fig,axes = plt.subplots(2,2,figsize=(12,12))\n",
    "    \n",
    "    axes[0,0].scatter(x, y, c=c, cmap=cmap, edgecolor='#555555', linewidth=1., s=32, \n",
    "                      vmin=-0.2, vmax=0.2)\n",
    "    axes[0,0].set_ylim(-0.5, 0.5)\n",
    "\n",
    "    X,Y = np.meshgrid(np.linspace(0,1,32), np.linspace(0,1,32))\n",
    "    C = X\n",
    "    axes[0,1].pcolormesh(X, Y, C, cmap=cmap)\n",
    "\n",
    "    X,Y = np.meshgrid(np.linspace(-1,1,128), np.linspace(-1,1,128))\n",
    "    C = np.arcsin(np.sin(2*(X**2 + Y**2) + np.arctan2(Y, X)))\n",
    "    axes[1,0].pcolormesh(X, Y, C, cmap=cmap)\n",
    "\n",
    "    i,j = np.meshgrid(np.arange(512), np.arange(512))\n",
    "    axes[1,1].pcolormesh(i, j, np.bitwise_xor(i,j), cmap=cmap)\n",
    "    axes[1,1].set_xlim(0,511)\n",
    "    axes[1,1].set_ylim(0,511)\n",
    "    \n",
    "#     # matplotlib's contour demo\n",
    "#     delta = 0.025\n",
    "#     x = np.arange(-3.0, 3.0, delta)\n",
    "#     y = np.arange(-2.0, 2.0, delta)\n",
    "#     X, Y = np.meshgrid(x, y)\n",
    "#     Z1 = mlab.bivariate_normal(X, Y, 1.0, 1.0, 0.0, 0.0)\n",
    "#     Z2 = mlab.bivariate_normal(X, Y, 1.5, 0.5, 1, 1)\n",
    "#     # difference of Gaussians\n",
    "#     Z = 10.0 * (Z2 - Z1)\n",
    "#     axes[0,2].contour(X,Y,Z, cmap=cmap, vmin=-1, vmax=1)\n",
    "#     axes[1,2].contourf(X,Y,Z, cmap=cmap, vmin=-1, vmax=1)\n",
    "\n",
    "    fig.suptitle(str(cmap.name), fontsize=28, y=0.99)\n",
    "    fig.tight_layout()\n",
    "    fig.subplots_adjust(top=0.95)\n",
    "    \n",
    "    return fig"
   ]
  },
  {
   "cell_type": "code",
   "execution_count": null,
   "metadata": {
    "collapsed": false
   },
   "outputs": [],
   "source": [
    "for cmap in [center_emph, center_deemph]:\n",
    "# for cmap in [center_deemph]:\n",
    "    fig = make_fig(cmap)\n",
    "    fig.savefig(\"{}.png\".format(cmap.name))"
   ]
  },
  {
   "cell_type": "code",
   "execution_count": null,
   "metadata": {
    "collapsed": true
   },
   "outputs": [],
   "source": []
  }
 ],
 "metadata": {
  "anaconda-cloud": {},
  "kernelspec": {
   "display_name": "Python [conda env:three]",
   "language": "python",
   "name": "conda-env-three-py"
  },
  "language_info": {
   "codemirror_mode": {
    "name": "ipython",
    "version": 3
   },
   "file_extension": ".py",
   "mimetype": "text/x-python",
   "name": "python",
   "nbconvert_exporter": "python",
   "pygments_lexer": "ipython3",
   "version": "3.5.2"
  }
 },
 "nbformat": 4,
 "nbformat_minor": 1
}