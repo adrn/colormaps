{
 "cells": [
  {
   "cell_type": "code",
   "execution_count": null,
   "metadata": {
    "collapsed": true
   },
   "outputs": [],
   "source": [
    "import numpy as np\n",
    "import matplotlib.pyplot as plt\n",
    "plt.style.use('apw-notebook')\n",
    "%matplotlib inline\n",
    "\n",
    "import colorsys\n",
    "import numpy as np\n",
    "from scipy.interpolate import splprep, splev\n",
    "\n",
    "from mpl_toolkits.mplot3d import Axes3D\n",
    "from matplotlib.colors import ListedColormap\n",
    "\n",
    "from testcard import testcard"
   ]
  },
  {
   "cell_type": "code",
   "execution_count": null,
   "metadata": {
    "collapsed": false
   },
   "outputs": [],
   "source": [
    "n_nodes = 7\n",
    "H = np.random.uniform(size=n_nodes)\n",
    "# S = np.sqrt(np.random.uniform(size=n_nodes))\n",
    "S = np.random.uniform(size=n_nodes)\n",
    "L = np.linspace(0, 1, n_nodes)"
   ]
  },
  {
   "cell_type": "code",
   "execution_count": null,
   "metadata": {
    "collapsed": false
   },
   "outputs": [],
   "source": [
    "rgb = np.zeros((n_nodes,3))\n",
    "for i in range(n_nodes):\n",
    "    rgb[i] = colorsys.hls_to_rgb(H[i], L[i], S[i])"
   ]
  },
  {
   "cell_type": "code",
   "execution_count": null,
   "metadata": {
    "collapsed": false
   },
   "outputs": [],
   "source": [
    "plt.figure(figsize=(8,8))\n",
    "plt.subplot(projection='3d')\n",
    "# plt.plot(rgb[:,0], rgb[:,1], rgb[:,2])\n",
    "plt.plot(H, S, L)\n",
    "plt.xlim(0,1)\n",
    "plt.ylim(0,1)"
   ]
  },
  {
   "cell_type": "code",
   "execution_count": null,
   "metadata": {
    "collapsed": false
   },
   "outputs": [],
   "source": [
    "tck,u = splprep(rgb.T, u=L)\n",
    "r,g,b = splev(np.linspace(0,1,256), tck)\n",
    "\n",
    "r[r < 0] = 0\n",
    "g[g < 0] = 0\n",
    "b[b < 0] = 0\n",
    "\n",
    "r[r > 1.] = 1.\n",
    "g[g > 1.] = 1.\n",
    "b[b > 1.] = 1."
   ]
  },
  {
   "cell_type": "code",
   "execution_count": null,
   "metadata": {
    "collapsed": false
   },
   "outputs": [],
   "source": [
    "rgb_list = [tuple(x) for x in np.vstack((r,g,b)).T]"
   ]
  },
  {
   "cell_type": "code",
   "execution_count": null,
   "metadata": {
    "collapsed": true
   },
   "outputs": [],
   "source": [
    "cmap = ListedColormap(rgb_list)"
   ]
  },
  {
   "cell_type": "code",
   "execution_count": null,
   "metadata": {
    "collapsed": false,
    "scrolled": false
   },
   "outputs": [],
   "source": [
    "fig = testcard(cmap)"
   ]
  },
  {
   "cell_type": "code",
   "execution_count": null,
   "metadata": {
    "collapsed": true
   },
   "outputs": [],
   "source": []
  }
 ],
 "metadata": {
  "anaconda-cloud": {},
  "kernelspec": {
   "display_name": "Python [conda env:three]",
   "language": "python",
   "name": "conda-env-three-py"
  },
  "language_info": {
   "codemirror_mode": {
    "name": "ipython",
    "version": 3
   },
   "file_extension": ".py",
   "mimetype": "text/x-python",
   "name": "python",
   "nbconvert_exporter": "python",
   "pygments_lexer": "ipython3",
   "version": "3.5.2"
  }
 },
 "nbformat": 4,
 "nbformat_minor": 1
}